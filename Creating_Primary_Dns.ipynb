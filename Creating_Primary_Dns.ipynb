{
 "cells": [
  {
   "cell_type": "code",
   "execution_count": 4,
   "metadata": {},
   "outputs": [
    {
     "name": "stdout",
     "output_type": "stream",
     "text": [
      "Requirement already satisfied: dnslib in c:\\users\\helios\\appdata\\local\\programs\\python\\python311\\lib\\site-packages (0.9.23)\n",
      "DNS server listening on port 53\n"
     ]
    },
    {
     "name": "stderr",
     "output_type": "stream",
     "text": [
      "\n",
      "[notice] A new release of pip is available: 23.0.1 -> 23.1\n",
      "[notice] To update, run: python.exe -m pip install --upgrade pip\n"
     ]
    }
   ],
   "source": [
    "!pip install dnslib\n",
    "import socket\n",
    "from dnslib.server import BaseResolver\n",
    "from dnslib import *\n",
    "import itertools\n",
    "\n",
    "\n",
    "# Configuration parameters\n",
    "DNS_PORT = 53\n",
    "DNS_DOMAIN = 'example.com'\n",
    "DNS_IPS = ['192.168.1.1', '192.168.1.2']\n",
    "\n",
    "# DNS resolver class\n",
    "class MyResolver(BaseResolver):\n",
    "    def __init__(self, domain, ips):\n",
    "        self.domain = domain\n",
    "        self.ips = ips\n",
    "        self.ip_cycle = itertools.cycle(self.ips)\n",
    "\n",
    "    def resolve(self, request, handler):\n",
    "        reply = DNSRecord(request)\n",
    "\n",
    "        qname = request.q.qname\n",
    "        if str(qname) == self.domain:\n",
    "            # Retrieve the next IP from the IP cycle\n",
    "            ip = next(self.ip_cycle)\n",
    "\n",
    "            reply.add_answer(*RR.fromZone(f\"{self.domain} 60 IN A {ip}\"))\n",
    "\n",
    "        return reply\n",
    "\n",
    "# DNS server class\n",
    "class DNSServer:\n",
    "    def __init__(self, port, resolver):\n",
    "        self.port = port\n",
    "        self.resolver = resolver\n",
    "\n",
    "    def start(self):\n",
    "        sock = socket.socket(socket.AF_INET, socket.SOCK_DGRAM)\n",
    "        sock.bind(('0.0.0.0', self.port))\n",
    "        print(f\"DNS server listening on port {self.port}\")\n",
    "\n",
    "        while True:\n",
    "            data, addr = sock.recvfrom(512)\n",
    "            request = DNSRecord.parse(data)\n",
    "            reply = self.resolver.resolve(request, addr)\n",
    "\n",
    "            if reply:\n",
    "                sock.sendto(reply.pack(), addr)\n",
    "\n",
    "# Create and start the DNS server\n",
    "resolver = MyResolver(DNS_DOMAIN, DNS_IPS)\n",
    "server = DNSServer(DNS_PORT, resolver)\n",
    "server.start()\n"
   ]
  },
  {
   "cell_type": "code",
   "execution_count": null,
   "metadata": {},
   "outputs": [],
   "source": [
    "\n"
   ]
  },
  {
   "cell_type": "code",
   "execution_count": null,
   "metadata": {},
   "outputs": [],
   "source": []
  }
 ],
 "metadata": {
  "kernelspec": {
   "display_name": "Python 3",
   "language": "python",
   "name": "python3"
  },
  "language_info": {
   "codemirror_mode": {
    "name": "ipython",
    "version": 3
   },
   "file_extension": ".py",
   "mimetype": "text/x-python",
   "name": "python",
   "nbconvert_exporter": "python",
   "pygments_lexer": "ipython3",
   "version": "3.11.2"
  },
  "orig_nbformat": 4
 },
 "nbformat": 4,
 "nbformat_minor": 2
}
